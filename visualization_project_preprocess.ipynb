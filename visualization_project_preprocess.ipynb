{
  "nbformat": 4,
  "nbformat_minor": 0,
  "metadata": {
    "colab": {
      "name": "visualization_project_preprocess.ipynb",
      "provenance": [],
      "collapsed_sections": []
    },
    "kernelspec": {
      "name": "python3",
      "display_name": "Python 3"
    },
    "language_info": {
      "name": "python"
    }
  },
  "cells": [
    {
      "cell_type": "markdown",
      "source": [
        "###Read git data"
      ],
      "metadata": {
        "id": "lRnISupl9bBf"
      }
    },
    {
      "cell_type": "code",
      "execution_count": null,
      "metadata": {
        "colab": {
          "base_uri": "https://localhost:8080/"
        },
        "id": "hvATjnoSAA-F",
        "outputId": "783dd503-5957-49a7-ff84-d5df50729ef9"
      },
      "outputs": [
        {
          "output_type": "stream",
          "name": "stdout",
          "text": [
            "Cloning into 'data-police-shootings'...\n",
            "remote: Enumerating objects: 5662, done.\u001b[K\n",
            "remote: Counting objects: 100% (772/772), done.\u001b[K\n",
            "remote: Compressing objects: 100% (29/29), done.\u001b[K\n",
            "remote: Total 5662 (delta 768), reused 745 (delta 743), pack-reused 4890\u001b[K\n",
            "Receiving objects: 100% (5662/5662), 3.17 MiB | 22.73 MiB/s, done.\n",
            "Resolving deltas: 100% (4363/4363), done.\n"
          ]
        }
      ],
      "source": [
        "!git clone https://github.com/washingtonpost/data-police-shootings.git"
      ]
    },
    {
      "cell_type": "markdown",
      "source": [
        "###libraries"
      ],
      "metadata": {
        "id": "othhqTiS_NRH"
      }
    },
    {
      "cell_type": "code",
      "source": [
        "import pandas as pd\n",
        "import csv\n",
        "import matplotlib.pyplot as plt\n",
        "from scipy.interpolate import make_interp_spline\n",
        "import numpy as np\n",
        "\n",
        "import plotly.express as px\n",
        "import plotly.graph_objects as go\n",
        "\n",
        "\n",
        "from geopy.geocoders import Nominatim\n"
      ],
      "metadata": {
        "id": "zWuYKqpNAP30"
      },
      "execution_count": null,
      "outputs": []
    },
    {
      "cell_type": "markdown",
      "source": [
        "###Data before preprocess"
      ],
      "metadata": {
        "id": "tdvm9YuF_eDn"
      }
    },
    {
      "cell_type": "code",
      "source": [
        "data=pd.read_csv(\"/content/data-police-shootings/fatal-police-shootings-data.csv\",sep=\",\",encoding='latin-1')\n",
        "data.head(5)"
      ],
      "metadata": {
        "colab": {
          "base_uri": "https://localhost:8080/",
          "height": 357
        },
        "id": "KkNXBZikATmt",
        "outputId": "a79b1859-c28e-404a-8f32-ea799daef78d"
      },
      "execution_count": null,
      "outputs": [
        {
          "output_type": "execute_result",
          "data": {
            "text/plain": [
              "   id                name        date   manner_of_death       armed   age  \\\n",
              "0   3          Tim Elliot  2015-01-02              shot         gun  53.0   \n",
              "1   4    Lewis Lee Lembke  2015-01-02              shot         gun  47.0   \n",
              "2   5  John Paul Quintero  2015-01-03  shot and Tasered     unarmed  23.0   \n",
              "3   8     Matthew Hoffman  2015-01-04              shot  toy weapon  32.0   \n",
              "4   9   Michael Rodriguez  2015-01-04              shot    nail gun  39.0   \n",
              "\n",
              "  gender race           city state  signs_of_mental_illness threat_level  \\\n",
              "0      M    A        Shelton    WA                     True       attack   \n",
              "1      M    W          Aloha    OR                    False       attack   \n",
              "2      M    H        Wichita    KS                    False        other   \n",
              "3      M    W  San Francisco    CA                     True       attack   \n",
              "4      M    H          Evans    CO                    False       attack   \n",
              "\n",
              "          flee  body_camera  longitude  latitude  is_geocoding_exact  \n",
              "0  Not fleeing        False   -123.122    47.247                True  \n",
              "1  Not fleeing        False   -122.892    45.487                True  \n",
              "2  Not fleeing        False    -97.281    37.695                True  \n",
              "3  Not fleeing        False   -122.422    37.763                True  \n",
              "4  Not fleeing        False   -104.692    40.384                True  "
            ],
            "text/html": [
              "\n",
              "  <div id=\"df-7558e72f-0579-4a20-84fa-b9e7d95c7fff\">\n",
              "    <div class=\"colab-df-container\">\n",
              "      <div>\n",
              "<style scoped>\n",
              "    .dataframe tbody tr th:only-of-type {\n",
              "        vertical-align: middle;\n",
              "    }\n",
              "\n",
              "    .dataframe tbody tr th {\n",
              "        vertical-align: top;\n",
              "    }\n",
              "\n",
              "    .dataframe thead th {\n",
              "        text-align: right;\n",
              "    }\n",
              "</style>\n",
              "<table border=\"1\" class=\"dataframe\">\n",
              "  <thead>\n",
              "    <tr style=\"text-align: right;\">\n",
              "      <th></th>\n",
              "      <th>id</th>\n",
              "      <th>name</th>\n",
              "      <th>date</th>\n",
              "      <th>manner_of_death</th>\n",
              "      <th>armed</th>\n",
              "      <th>age</th>\n",
              "      <th>gender</th>\n",
              "      <th>race</th>\n",
              "      <th>city</th>\n",
              "      <th>state</th>\n",
              "      <th>signs_of_mental_illness</th>\n",
              "      <th>threat_level</th>\n",
              "      <th>flee</th>\n",
              "      <th>body_camera</th>\n",
              "      <th>longitude</th>\n",
              "      <th>latitude</th>\n",
              "      <th>is_geocoding_exact</th>\n",
              "    </tr>\n",
              "  </thead>\n",
              "  <tbody>\n",
              "    <tr>\n",
              "      <th>0</th>\n",
              "      <td>3</td>\n",
              "      <td>Tim Elliot</td>\n",
              "      <td>2015-01-02</td>\n",
              "      <td>shot</td>\n",
              "      <td>gun</td>\n",
              "      <td>53.0</td>\n",
              "      <td>M</td>\n",
              "      <td>A</td>\n",
              "      <td>Shelton</td>\n",
              "      <td>WA</td>\n",
              "      <td>True</td>\n",
              "      <td>attack</td>\n",
              "      <td>Not fleeing</td>\n",
              "      <td>False</td>\n",
              "      <td>-123.122</td>\n",
              "      <td>47.247</td>\n",
              "      <td>True</td>\n",
              "    </tr>\n",
              "    <tr>\n",
              "      <th>1</th>\n",
              "      <td>4</td>\n",
              "      <td>Lewis Lee Lembke</td>\n",
              "      <td>2015-01-02</td>\n",
              "      <td>shot</td>\n",
              "      <td>gun</td>\n",
              "      <td>47.0</td>\n",
              "      <td>M</td>\n",
              "      <td>W</td>\n",
              "      <td>Aloha</td>\n",
              "      <td>OR</td>\n",
              "      <td>False</td>\n",
              "      <td>attack</td>\n",
              "      <td>Not fleeing</td>\n",
              "      <td>False</td>\n",
              "      <td>-122.892</td>\n",
              "      <td>45.487</td>\n",
              "      <td>True</td>\n",
              "    </tr>\n",
              "    <tr>\n",
              "      <th>2</th>\n",
              "      <td>5</td>\n",
              "      <td>John Paul Quintero</td>\n",
              "      <td>2015-01-03</td>\n",
              "      <td>shot and Tasered</td>\n",
              "      <td>unarmed</td>\n",
              "      <td>23.0</td>\n",
              "      <td>M</td>\n",
              "      <td>H</td>\n",
              "      <td>Wichita</td>\n",
              "      <td>KS</td>\n",
              "      <td>False</td>\n",
              "      <td>other</td>\n",
              "      <td>Not fleeing</td>\n",
              "      <td>False</td>\n",
              "      <td>-97.281</td>\n",
              "      <td>37.695</td>\n",
              "      <td>True</td>\n",
              "    </tr>\n",
              "    <tr>\n",
              "      <th>3</th>\n",
              "      <td>8</td>\n",
              "      <td>Matthew Hoffman</td>\n",
              "      <td>2015-01-04</td>\n",
              "      <td>shot</td>\n",
              "      <td>toy weapon</td>\n",
              "      <td>32.0</td>\n",
              "      <td>M</td>\n",
              "      <td>W</td>\n",
              "      <td>San Francisco</td>\n",
              "      <td>CA</td>\n",
              "      <td>True</td>\n",
              "      <td>attack</td>\n",
              "      <td>Not fleeing</td>\n",
              "      <td>False</td>\n",
              "      <td>-122.422</td>\n",
              "      <td>37.763</td>\n",
              "      <td>True</td>\n",
              "    </tr>\n",
              "    <tr>\n",
              "      <th>4</th>\n",
              "      <td>9</td>\n",
              "      <td>Michael Rodriguez</td>\n",
              "      <td>2015-01-04</td>\n",
              "      <td>shot</td>\n",
              "      <td>nail gun</td>\n",
              "      <td>39.0</td>\n",
              "      <td>M</td>\n",
              "      <td>H</td>\n",
              "      <td>Evans</td>\n",
              "      <td>CO</td>\n",
              "      <td>False</td>\n",
              "      <td>attack</td>\n",
              "      <td>Not fleeing</td>\n",
              "      <td>False</td>\n",
              "      <td>-104.692</td>\n",
              "      <td>40.384</td>\n",
              "      <td>True</td>\n",
              "    </tr>\n",
              "  </tbody>\n",
              "</table>\n",
              "</div>\n",
              "      <button class=\"colab-df-convert\" onclick=\"convertToInteractive('df-7558e72f-0579-4a20-84fa-b9e7d95c7fff')\"\n",
              "              title=\"Convert this dataframe to an interactive table.\"\n",
              "              style=\"display:none;\">\n",
              "        \n",
              "  <svg xmlns=\"http://www.w3.org/2000/svg\" height=\"24px\"viewBox=\"0 0 24 24\"\n",
              "       width=\"24px\">\n",
              "    <path d=\"M0 0h24v24H0V0z\" fill=\"none\"/>\n",
              "    <path d=\"M18.56 5.44l.94 2.06.94-2.06 2.06-.94-2.06-.94-.94-2.06-.94 2.06-2.06.94zm-11 1L8.5 8.5l.94-2.06 2.06-.94-2.06-.94L8.5 2.5l-.94 2.06-2.06.94zm10 10l.94 2.06.94-2.06 2.06-.94-2.06-.94-.94-2.06-.94 2.06-2.06.94z\"/><path d=\"M17.41 7.96l-1.37-1.37c-.4-.4-.92-.59-1.43-.59-.52 0-1.04.2-1.43.59L10.3 9.45l-7.72 7.72c-.78.78-.78 2.05 0 2.83L4 21.41c.39.39.9.59 1.41.59.51 0 1.02-.2 1.41-.59l7.78-7.78 2.81-2.81c.8-.78.8-2.07 0-2.86zM5.41 20L4 18.59l7.72-7.72 1.47 1.35L5.41 20z\"/>\n",
              "  </svg>\n",
              "      </button>\n",
              "      \n",
              "  <style>\n",
              "    .colab-df-container {\n",
              "      display:flex;\n",
              "      flex-wrap:wrap;\n",
              "      gap: 12px;\n",
              "    }\n",
              "\n",
              "    .colab-df-convert {\n",
              "      background-color: #E8F0FE;\n",
              "      border: none;\n",
              "      border-radius: 50%;\n",
              "      cursor: pointer;\n",
              "      display: none;\n",
              "      fill: #1967D2;\n",
              "      height: 32px;\n",
              "      padding: 0 0 0 0;\n",
              "      width: 32px;\n",
              "    }\n",
              "\n",
              "    .colab-df-convert:hover {\n",
              "      background-color: #E2EBFA;\n",
              "      box-shadow: 0px 1px 2px rgba(60, 64, 67, 0.3), 0px 1px 3px 1px rgba(60, 64, 67, 0.15);\n",
              "      fill: #174EA6;\n",
              "    }\n",
              "\n",
              "    [theme=dark] .colab-df-convert {\n",
              "      background-color: #3B4455;\n",
              "      fill: #D2E3FC;\n",
              "    }\n",
              "\n",
              "    [theme=dark] .colab-df-convert:hover {\n",
              "      background-color: #434B5C;\n",
              "      box-shadow: 0px 1px 3px 1px rgba(0, 0, 0, 0.15);\n",
              "      filter: drop-shadow(0px 1px 2px rgba(0, 0, 0, 0.3));\n",
              "      fill: #FFFFFF;\n",
              "    }\n",
              "  </style>\n",
              "\n",
              "      <script>\n",
              "        const buttonEl =\n",
              "          document.querySelector('#df-7558e72f-0579-4a20-84fa-b9e7d95c7fff button.colab-df-convert');\n",
              "        buttonEl.style.display =\n",
              "          google.colab.kernel.accessAllowed ? 'block' : 'none';\n",
              "\n",
              "        async function convertToInteractive(key) {\n",
              "          const element = document.querySelector('#df-7558e72f-0579-4a20-84fa-b9e7d95c7fff');\n",
              "          const dataTable =\n",
              "            await google.colab.kernel.invokeFunction('convertToInteractive',\n",
              "                                                     [key], {});\n",
              "          if (!dataTable) return;\n",
              "\n",
              "          const docLinkHtml = 'Like what you see? Visit the ' +\n",
              "            '<a target=\"_blank\" href=https://colab.research.google.com/notebooks/data_table.ipynb>data table notebook</a>'\n",
              "            + ' to learn more about interactive tables.';\n",
              "          element.innerHTML = '';\n",
              "          dataTable['output_type'] = 'display_data';\n",
              "          await google.colab.output.renderOutput(dataTable, element);\n",
              "          const docLink = document.createElement('div');\n",
              "          docLink.innerHTML = docLinkHtml;\n",
              "          element.appendChild(docLink);\n",
              "        }\n",
              "      </script>\n",
              "    </div>\n",
              "  </div>\n",
              "  "
            ]
          },
          "metadata": {},
          "execution_count": 6
        }
      ]
    },
    {
      "cell_type": "code",
      "source": [
        "data.shape"
      ],
      "metadata": {
        "colab": {
          "base_uri": "https://localhost:8080/"
        },
        "id": "NDnMP-lF32nK",
        "outputId": "72e11692-24de-424f-92e5-014f2d20dec2"
      },
      "execution_count": null,
      "outputs": [
        {
          "output_type": "execute_result",
          "data": {
            "text/plain": [
              "(7504, 17)"
            ]
          },
          "metadata": {},
          "execution_count": 7
        }
      ]
    },
    {
      "cell_type": "code",
      "source": [
        "data.isna().sum()"
      ],
      "metadata": {
        "colab": {
          "base_uri": "https://localhost:8080/"
        },
        "id": "G8qpIc_qAoqC",
        "outputId": "3548aeec-474f-4d4d-fcc3-c1290ced17e2"
      },
      "execution_count": null,
      "outputs": [
        {
          "output_type": "execute_result",
          "data": {
            "text/plain": [
              "id                            0\n",
              "name                        388\n",
              "date                          0\n",
              "manner_of_death               0\n",
              "armed                       209\n",
              "age                         449\n",
              "gender                       19\n",
              "race                       1382\n",
              "city                          0\n",
              "state                         0\n",
              "signs_of_mental_illness       0\n",
              "threat_level                  0\n",
              "flee                        763\n",
              "body_camera                   0\n",
              "longitude                   712\n",
              "latitude                    712\n",
              "is_geocoding_exact            0\n",
              "dtype: int64"
            ]
          },
          "metadata": {},
          "execution_count": 8
        }
      ]
    },
    {
      "cell_type": "markdown",
      "source": [
        "###helper dicts"
      ],
      "metadata": {
        "id": "QHKuSJIQ_pFc"
      }
    },
    {
      "cell_type": "code",
      "source": [
        "states_initial = {\n",
        "    'AK': 'Alaska',\n",
        "    'AL': 'Alabama',\n",
        "    'AR': 'Arkansas',\n",
        "    'AZ': 'Arizona',\n",
        "    'CA': 'California',\n",
        "    'CO': 'Colorado',\n",
        "    'CT': 'Connecticut',\n",
        "    'DC': 'District of Columbia',\n",
        "    'DE': 'Delaware',\n",
        "    'FL': 'Florida',\n",
        "    'GA': 'Georgia',\n",
        "    'HI': 'Hawaii',\n",
        "    'IA': 'Iowa',\n",
        "    'ID': 'Idaho',\n",
        "    'IL': 'Illinois',\n",
        "    'IN': 'Indiana',\n",
        "    'KS': 'Kansas',\n",
        "    'KY': 'Kentucky',\n",
        "    'LA': 'Louisiana',\n",
        "    'MA': 'Massachusetts',\n",
        "    'MD': 'Maryland',\n",
        "    'ME': 'Maine',\n",
        "    'MI': 'Michigan',\n",
        "    'MN': 'Minnesota',\n",
        "    'MO': 'Missouri',\n",
        "    'MS': 'Mississippi',\n",
        "    'MT': 'Montana',\n",
        "    'NC': 'North Carolina',\n",
        "    'ND': 'North Dakota',\n",
        "    'NE': 'Nebraska',\n",
        "    'NH': 'New Hampshire',\n",
        "    'NJ': 'New Jersey',\n",
        "    'NM': 'New Mexico',\n",
        "    'NV': 'Nevada',\n",
        "    'NY': 'New York',\n",
        "    'OH': 'Ohio',\n",
        "    'OK': 'Oklahoma',\n",
        "    'OR': 'Oregon',\n",
        "    'PA': 'Pennsylvania',\n",
        "    'RI': 'Rhode Island',\n",
        "    'SC': 'South Carolina',\n",
        "    'SD': 'South Dakota',\n",
        "    'TN': 'Tennessee',\n",
        "    'TX': 'Texas',\n",
        "    'UT': 'Utah',\n",
        "    'VA': 'Virginia',\n",
        "    'VT': 'Vermont',\n",
        "    'WA': 'Washington',\n",
        "    'WI': 'Wisconsin',\n",
        "    'WV': 'West Virginia',\n",
        "    'WY': 'Wyoming'\n",
        "}\n",
        "race_initial={\"W\": \"White\",\n",
        "\"B\": \"Black\",\n",
        "\"A\": \"Asian\",\n",
        "\"N\": \"Native American\",\n",
        "\"H\": \"Hispanic\",\n",
        "\"O\": \"Other\",\n",
        "\"unknown\":\"unknown\"}"
      ],
      "metadata": {
        "id": "1ISnBjvoOeFR"
      },
      "execution_count": null,
      "outputs": []
    },
    {
      "cell_type": "markdown",
      "source": [
        "###Preprocess"
      ],
      "metadata": {
        "id": "hWQYcT6d_yuJ"
      }
    },
    {
      "cell_type": "markdown",
      "source": [
        "####Fix null values"
      ],
      "metadata": {
        "id": "DawDMNlL_274"
      }
    },
    {
      "cell_type": "code",
      "source": [
        "df = data[data['name'].notna()]\n",
        "df = df[df['age'].notna()]\n",
        "\n",
        "df[\"armed\"].fillna(\"undetermined\",inplace=True)\n",
        "df[\"gender\"].fillna(\"unknown\",inplace=True)\n",
        "df[\"race\"].fillna(\"unknown\",inplace=True)\n",
        "df[\"flee\"].fillna(\"unknown\",inplace=True)\n",
        "df = df[df['gender']!=\"unknown\"]\n",
        "\n",
        "geolocator = Nominatim(user_agent='test1')\n",
        "to_remove=[]\n",
        "for idx,row in df[df['longitude'].isna()].iterrows():\n",
        "  try:\n",
        "    location = geolocator.geocode(row[\"city\"]+\" \"+states_initial[row[\"state\"]])\n",
        "    df.at[idx,\"longitude\"]=round(location.longitude,3)\n",
        "    df.at[idx,\"latitude\"]=round(location.latitude,3)\n",
        "    df.at[idx,'is_geocoding_exact']=False\n",
        "  except:\n",
        "    to_remove.append(idx)\n",
        "df.drop(index=to_remove,inplace=True)\n"
      ],
      "metadata": {
        "id": "B3G3pC0gA25M"
      },
      "execution_count": null,
      "outputs": []
    },
    {
      "cell_type": "markdown",
      "source": [
        "####Adding derived columns"
      ],
      "metadata": {
        "id": "e3nNu3B8AChe"
      }
    },
    {
      "cell_type": "code",
      "source": [
        "temp_df=pd.DataFrame(df['date'].map(lambda a: [int(i) for i in a.split(\"-\")]).tolist(),\n",
        "                     columns=['year',\"month\",\"day\"],index=df.index)\n",
        "df[\"race_full\"]=df['race'].map(lambda a: race_initial[a])\n",
        "df[\"state_full\"]=df['state'].map(lambda a: states_initial[a])\n",
        "df[\"gender_binary\"]=df['gender'].map(lambda a: 1 if a==\"M\" else 0)\n",
        "\n",
        "df=pd.concat([df,temp_df],axis=1)\n",
        "\n"
      ],
      "metadata": {
        "id": "bBImTA0lsCut"
      },
      "execution_count": null,
      "outputs": []
    },
    {
      "cell_type": "markdown",
      "source": [
        "###Data after preprocess"
      ],
      "metadata": {
        "id": "u-YYGOkdDK9k"
      }
    },
    {
      "cell_type": "code",
      "source": [
        "df.isna().sum()"
      ],
      "metadata": {
        "id": "VfwgmXr7DPHE"
      },
      "execution_count": null,
      "outputs": []
    },
    {
      "cell_type": "code",
      "source": [
        "df.head(5)"
      ],
      "metadata": {
        "id": "UbUlUUQMDS5_"
      },
      "execution_count": null,
      "outputs": []
    },
    {
      "cell_type": "code",
      "source": [
        "df.shape"
      ],
      "metadata": {
        "id": "P_82mcweDX4T"
      },
      "execution_count": null,
      "outputs": []
    },
    {
      "cell_type": "markdown",
      "source": [
        "###Save"
      ],
      "metadata": {
        "id": "-QG1MOrpCuXS"
      }
    },
    {
      "cell_type": "code",
      "source": [
        "df.to_csv(\"run_df.csv\")"
      ],
      "metadata": {
        "id": "dWXsr-svtpFz"
      },
      "execution_count": null,
      "outputs": []
    },
    {
      "cell_type": "markdown",
      "source": [
        "###Testing"
      ],
      "metadata": {
        "id": "EkoqQGEMDtFw"
      }
    },
    {
      "cell_type": "code",
      "source": [
        "df=pd.read_csv(\"/content/run_df_19_6.csv\")"
      ],
      "metadata": {
        "id": "3nyuNpfGiorA"
      },
      "execution_count": null,
      "outputs": []
    },
    {
      "cell_type": "code",
      "source": [
        "df.shape"
      ],
      "metadata": {
        "colab": {
          "base_uri": "https://localhost:8080/"
        },
        "id": "WxQFU8yZs2nr",
        "outputId": "04d0c4fb-356e-485c-dc0a-db024c3b4dfa"
      },
      "execution_count": null,
      "outputs": [
        {
          "output_type": "execute_result",
          "data": {
            "text/plain": [
              "(6956, 24)"
            ]
          },
          "metadata": {},
          "execution_count": 3
        }
      ]
    }
  ]
}